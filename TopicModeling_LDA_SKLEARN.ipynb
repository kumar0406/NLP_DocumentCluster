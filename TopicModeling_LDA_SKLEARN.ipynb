{
 "cells": [
  {
   "cell_type": "code",
   "execution_count": 1,
   "metadata": {},
   "outputs": [],
   "source": [
    "import pandas as pd\n",
    "import numpy as np\n"
   ]
  },
  {
   "cell_type": "code",
   "execution_count": 3,
   "metadata": {},
   "outputs": [],
   "source": [
    "df = pd.read_csv('df_small.csv')"
   ]
  },
  {
   "cell_type": "code",
   "execution_count": 63,
   "metadata": {},
   "outputs": [],
   "source": [
    "df.columns = ['text']"
   ]
  },
  {
   "cell_type": "code",
   "execution_count": 5,
   "metadata": {},
   "outputs": [],
   "source": [
    "from sklearn.feature_extraction.text import CountVectorizer"
   ]
  },
  {
   "cell_type": "code",
   "execution_count": 60,
   "metadata": {},
   "outputs": [],
   "source": [
    "cv = CountVectorizer( max_df=0.8, min_df=10, stop_words='english')"
   ]
  },
  {
   "cell_type": "code",
   "execution_count": 61,
   "metadata": {},
   "outputs": [],
   "source": [
    "dtm = cv.fit_transform(df['text'])"
   ]
  },
  {
   "cell_type": "code",
   "execution_count": 62,
   "metadata": {},
   "outputs": [
    {
     "data": {
      "text/plain": [
       "<13775x2133 sparse matrix of type '<class 'numpy.int64'>'\n",
       "\twith 65928 stored elements in Compressed Sparse Row format>"
      ]
     },
     "execution_count": 62,
     "metadata": {},
     "output_type": "execute_result"
    }
   ],
   "source": [
    "dtm"
   ]
  },
  {
   "cell_type": "code",
   "execution_count": 64,
   "metadata": {},
   "outputs": [],
   "source": [
    "from sklearn.decomposition import LatentDirichletAllocation"
   ]
  },
  {
   "cell_type": "code",
   "execution_count": 66,
   "metadata": {},
   "outputs": [],
   "source": [
    "lda = LatentDirichletAllocation(n_components=15)"
   ]
  },
  {
   "cell_type": "code",
   "execution_count": 67,
   "metadata": {},
   "outputs": [
    {
     "data": {
      "text/plain": [
       "LatentDirichletAllocation(batch_size=128, doc_topic_prior=None,\n",
       "             evaluate_every=-1, learning_decay=0.7,\n",
       "             learning_method='batch', learning_offset=10.0,\n",
       "             max_doc_update_iter=100, max_iter=10, mean_change_tol=0.001,\n",
       "             n_components=15, n_jobs=None, n_topics=None, perp_tol=0.1,\n",
       "             random_state=None, topic_word_prior=None,\n",
       "             total_samples=1000000.0, verbose=0)"
      ]
     },
     "execution_count": 67,
     "metadata": {},
     "output_type": "execute_result"
    }
   ],
   "source": [
    "lda.fit(dtm)"
   ]
  },
  {
   "cell_type": "code",
   "execution_count": 70,
   "metadata": {},
   "outputs": [
    {
     "data": {
      "text/plain": [
       "'amazon'"
      ]
     },
     "execution_count": 70,
     "metadata": {},
     "output_type": "execute_result"
    }
   ],
   "source": [
    "cv.get_feature_names()[130]"
   ]
  },
  {
   "cell_type": "code",
   "execution_count": 71,
   "metadata": {},
   "outputs": [
    {
     "data": {
      "text/plain": [
       "array([[1.36018085e+02, 6.66667906e-02, 6.66668969e-02, ...,\n",
       "        1.60644518e+01, 8.55376525e+00, 1.20666664e+01],\n",
       "       [2.46642191e+00, 6.66667569e-02, 6.66668010e-02, ...,\n",
       "        6.66667474e-02, 1.57933912e+00, 6.66666777e-02],\n",
       "       [6.66667511e-02, 6.66667498e-02, 8.32998690e+00, ...,\n",
       "        6.66666986e-02, 6.66666667e-02, 6.66666716e-02],\n",
       "       ...,\n",
       "       [6.66741205e-02, 2.91712579e+00, 6.66667915e-02, ...,\n",
       "        2.06666594e+00, 6.68954193e-02, 6.66666763e-02],\n",
       "       [4.13880121e+00, 2.42887473e+01, 1.66557865e+01, ...,\n",
       "        6.66666698e-02, 6.66666719e-02, 6.66666721e-02],\n",
       "       [6.66667325e-02, 1.02403070e+01, 6.66667441e-02, ...,\n",
       "        6.66667241e-02, 6.66666891e-02, 6.66666878e-02]])"
      ]
     },
     "execution_count": 71,
     "metadata": {},
     "output_type": "execute_result"
    }
   ],
   "source": [
    "lda.components_"
   ]
  },
  {
   "cell_type": "code",
   "execution_count": 72,
   "metadata": {},
   "outputs": [
    {
     "data": {
      "text/plain": [
       "numpy.ndarray"
      ]
     },
     "execution_count": 72,
     "metadata": {},
     "output_type": "execute_result"
    }
   ],
   "source": [
    "type(lda.components_)"
   ]
  },
  {
   "cell_type": "code",
   "execution_count": 73,
   "metadata": {},
   "outputs": [],
   "source": [
    "first_topic = lda.components_[0]"
   ]
  },
  {
   "cell_type": "code",
   "execution_count": 76,
   "metadata": {},
   "outputs": [
    {
     "data": {
      "text/plain": [
       "array([2122,  258, 2079, 1487,  106, 1794,  462,    0,  476,  907],\n",
       "      dtype=int64)"
      ]
     },
     "execution_count": 76,
     "metadata": {},
     "output_type": "execute_result"
    }
   ],
   "source": [
    "first_topic.argsort()[-10:]"
   ]
  },
  {
   "cell_type": "code",
   "execution_count": 77,
   "metadata": {},
   "outputs": [
    {
     "name": "stdout",
     "output_type": "stream",
     "text": [
      "¹2\n",
      "billion\n",
      "wins\n",
      "raises\n",
      "air\n",
      "startup\n",
      "cr\n",
      "000\n",
      "crore\n",
      "india\n"
     ]
    }
   ],
   "source": [
    "for index in first_topic.argsort()[-10:]:\n",
    "    print(cv.get_feature_names()[index])"
   ]
  },
  {
   "cell_type": "code",
   "execution_count": 79,
   "metadata": {},
   "outputs": [
    {
     "name": "stdout",
     "output_type": "stream",
     "text": [
      "top 15 words for topic number 0\n",
      "['¹2', 'billion', 'wins', 'raises', 'air', 'startup', 'cr', '000', 'crore', 'india']\n",
      "top 15 words for topic number 1\n",
      "['crash', 'jaitley', 'japan', 'fb', 'killed', 'pay', 'firm', 'gst', 'uk', 'lakh']\n",
      "top 15 words for topic number 2\n",
      "['kids', 'coach', 'yrs', 'indian', 'released', 'army', 'pakistan', 'team', 'woman', 'india']\n",
      "top 15 words for topic number 3\n",
      "['held', 'apple', 'indian', 'ceo', 'girl', 'arrested', 'yr', 'man', 'year', 'old']\n",
      "top 15 words for topic number 4\n",
      "['asks', 'media', 'govt', 'china', 'polls', 'state', 'minister', 'congress', 'bjp', 'cm']\n",
      "top 15 words for topic number 5\n",
      "['musk', 'sexual', 'claims', 'rape', 'police', 'chief', 'party', 'ex', 'accused', 'case']\n",
      "top 15 words for topic number 6\n",
      "['did', 'prez', 'war', 'calls', 'iran', 'india', 'hits', 'fake', 'russia', 'trump']\n",
      "top 15 words for topic number 7\n",
      "['woman', 'leader', 'centre', 'bjp', 'dead', 'school', 'mp', 'crore', 'govt', 'delhi']\n",
      "top 15 words for topic number 8\n",
      "['man', 'away', 'big', 'daughter', 'car', 'actor', 'attack', 'police', 'gets', 'mumbai']\n",
      "top 15 words for topic number 9\n",
      "['deepika', 'wedding', 'kohli', 'india', 'pic', 'new', 'priyanka', 'salman', 'film', 'korea']\n",
      "top 15 words for topic number 10\n",
      "['wife', 'app', '25', 'google', 'launches', 'people', '10', 'users', 'court', 'years']\n",
      "top 15 words for topic number 11\n",
      "['cong', 'driving', 'shows', 'india', 'govt', 'gandhi', 'don', 'rahul', 'modi', 'pm']\n",
      "top 15 words for topic number 12\n",
      "['indian', 'test', 'ipl', 'women', '15', 'men', 'post', 'time', 'win', '1st']\n",
      "top 15 words for topic number 13\n",
      "['sachin', 'help', 'uber', 'cup', 'record', 'day', 'study', 'pak', 'india', 'world']\n",
      "top 15 words for topic number 14\n",
      "['goes', 'injured', 'user', 'makes', 'flight', 'video', 'tweets', 'man', 'hc', 'killed']\n"
     ]
    }
   ],
   "source": [
    "for i, topics in enumerate(lda.components_):\n",
    "    print(f\"top 15 words for topic number {i}\")\n",
    "    print([cv.get_feature_names()[index] for index in topics.argsort()[-10:]])"
   ]
  },
  {
   "cell_type": "code",
   "execution_count": null,
   "metadata": {},
   "outputs": [],
   "source": []
  },
  {
   "cell_type": "code",
   "execution_count": 80,
   "metadata": {},
   "outputs": [],
   "source": [
    "topic_results = lda.transform(dtm)"
   ]
  },
  {
   "cell_type": "code",
   "execution_count": 81,
   "metadata": {},
   "outputs": [],
   "source": [
    "df['topic'] = topic_results.argmax(axis=1)"
   ]
  },
  {
   "cell_type": "code",
   "execution_count": 82,
   "metadata": {},
   "outputs": [
    {
     "data": {
      "text/html": [
       "<div>\n",
       "<style scoped>\n",
       "    .dataframe tbody tr th:only-of-type {\n",
       "        vertical-align: middle;\n",
       "    }\n",
       "\n",
       "    .dataframe tbody tr th {\n",
       "        vertical-align: top;\n",
       "    }\n",
       "\n",
       "    .dataframe thead th {\n",
       "        text-align: right;\n",
       "    }\n",
       "</style>\n",
       "<table border=\"1\" class=\"dataframe\">\n",
       "  <thead>\n",
       "    <tr style=\"text-align: right;\">\n",
       "      <th></th>\n",
       "      <th>text</th>\n",
       "      <th>topic</th>\n",
       "    </tr>\n",
       "  </thead>\n",
       "  <tbody>\n",
       "    <tr>\n",
       "      <th>0</th>\n",
       "      <td>Black magic practitioner molests mentally chal...</td>\n",
       "      <td>3</td>\n",
       "    </tr>\n",
       "    <tr>\n",
       "      <th>1</th>\n",
       "      <td>Janab seat belt to lagalo: Kaif trolled for dr...</td>\n",
       "      <td>11</td>\n",
       "    </tr>\n",
       "    <tr>\n",
       "      <th>2</th>\n",
       "      <td>Thousands attend SlutWalk in Israel</td>\n",
       "      <td>11</td>\n",
       "    </tr>\n",
       "    <tr>\n",
       "      <th>3</th>\n",
       "      <td>US Vice President Mike Pence to meet PM Modi n...</td>\n",
       "      <td>11</td>\n",
       "    </tr>\n",
       "    <tr>\n",
       "      <th>4</th>\n",
       "      <td>Guj woman sexually assaulted, thrown out of mo...</td>\n",
       "      <td>7</td>\n",
       "    </tr>\n",
       "    <tr>\n",
       "      <th>5</th>\n",
       "      <td>Raj Kapoor's grandson's debut film Qaidi Band ...</td>\n",
       "      <td>6</td>\n",
       "    </tr>\n",
       "    <tr>\n",
       "      <th>6</th>\n",
       "      <td>Digvijaya Singh shares abusive meme on PM Modi</td>\n",
       "      <td>11</td>\n",
       "    </tr>\n",
       "    <tr>\n",
       "      <th>7</th>\n",
       "      <td>Paytm's 39-year-old Founder youngest Indian bi...</td>\n",
       "      <td>3</td>\n",
       "    </tr>\n",
       "    <tr>\n",
       "      <th>8</th>\n",
       "      <td>J&amp;J was alerted on Asbestos risk in talc in 70...</td>\n",
       "      <td>4</td>\n",
       "    </tr>\n",
       "    <tr>\n",
       "      <th>9</th>\n",
       "      <td>Craig to be paid â¹450cr for his last James B...</td>\n",
       "      <td>9</td>\n",
       "    </tr>\n",
       "    <tr>\n",
       "      <th>10</th>\n",
       "      <td>GlaxoSmithKline Pharma profit rises 69% in Dec...</td>\n",
       "      <td>11</td>\n",
       "    </tr>\n",
       "    <tr>\n",
       "      <th>11</th>\n",
       "      <td>Abuse me but stop insulting the jawans: PM Mod...</td>\n",
       "      <td>11</td>\n",
       "    </tr>\n",
       "    <tr>\n",
       "      <th>12</th>\n",
       "      <td>CBI files chargesheet against Himachal CM Virb...</td>\n",
       "      <td>4</td>\n",
       "    </tr>\n",
       "    <tr>\n",
       "      <th>13</th>\n",
       "      <td>Mauritius President refuses to resign over fin...</td>\n",
       "      <td>1</td>\n",
       "    </tr>\n",
       "    <tr>\n",
       "      <th>14</th>\n",
       "      <td>Snapdeal in talks with Flipkart, Paytm for sal...</td>\n",
       "      <td>0</td>\n",
       "    </tr>\n",
       "    <tr>\n",
       "      <th>15</th>\n",
       "      <td>Aus offers â¹13 lakh each to Rohingyas to ret...</td>\n",
       "      <td>12</td>\n",
       "    </tr>\n",
       "    <tr>\n",
       "      <th>16</th>\n",
       "      <td>Video shows Shiv Sena MP trying to beat Air In...</td>\n",
       "      <td>7</td>\n",
       "    </tr>\n",
       "    <tr>\n",
       "      <th>17</th>\n",
       "      <td>Was offered Rajkummarâs role in 'Bareilly Ki...</td>\n",
       "      <td>9</td>\n",
       "    </tr>\n",
       "    <tr>\n",
       "      <th>18</th>\n",
       "      <td>Startup that makes self-driving delivery robot...</td>\n",
       "      <td>14</td>\n",
       "    </tr>\n",
       "    <tr>\n",
       "      <th>19</th>\n",
       "      <td>3 injured in Kamakhya-Dekargaon train blast in...</td>\n",
       "      <td>14</td>\n",
       "    </tr>\n",
       "    <tr>\n",
       "      <th>20</th>\n",
       "      <td>Would choose Messi over Ronaldo, says Brazilia...</td>\n",
       "      <td>13</td>\n",
       "    </tr>\n",
       "    <tr>\n",
       "      <th>21</th>\n",
       "      <td>Censor Board should not act as a villain for f...</td>\n",
       "      <td>9</td>\n",
       "    </tr>\n",
       "    <tr>\n",
       "      <th>22</th>\n",
       "      <td>Pilot dies on board Etihad Airways plane mid-air</td>\n",
       "      <td>14</td>\n",
       "    </tr>\n",
       "    <tr>\n",
       "      <th>23</th>\n",
       "      <td>Rahul urges Cong states to support Women's Res...</td>\n",
       "      <td>4</td>\n",
       "    </tr>\n",
       "    <tr>\n",
       "      <th>24</th>\n",
       "      <td>Kangaroo tu na panga mat liya kar Bharat se: A...</td>\n",
       "      <td>12</td>\n",
       "    </tr>\n",
       "    <tr>\n",
       "      <th>25</th>\n",
       "      <td>Indian MMA fighter signs up for UFC for the fi...</td>\n",
       "      <td>2</td>\n",
       "    </tr>\n",
       "    <tr>\n",
       "      <th>26</th>\n",
       "      <td>Sweden truck attack suspect is Uzbekistan-born...</td>\n",
       "      <td>8</td>\n",
       "    </tr>\n",
       "    <tr>\n",
       "      <th>27</th>\n",
       "      <td>Saudi Crown Prince ordered to 'silence' journa...</td>\n",
       "      <td>6</td>\n",
       "    </tr>\n",
       "    <tr>\n",
       "      <th>28</th>\n",
       "      <td>Poster of Arjun's first film with uncle Anil '...</td>\n",
       "      <td>6</td>\n",
       "    </tr>\n",
       "    <tr>\n",
       "      <th>29</th>\n",
       "      <td>Delhi man kills lover during sex, takes nude b...</td>\n",
       "      <td>5</td>\n",
       "    </tr>\n",
       "    <tr>\n",
       "      <th>...</th>\n",
       "      <td>...</td>\n",
       "      <td>...</td>\n",
       "    </tr>\n",
       "    <tr>\n",
       "      <th>13745</th>\n",
       "      <td>Can't wait for them to make 'The Insensitive P...</td>\n",
       "      <td>2</td>\n",
       "    </tr>\n",
       "    <tr>\n",
       "      <th>13746</th>\n",
       "      <td>Doing Satyarthi film as most Indians don't kno...</td>\n",
       "      <td>11</td>\n",
       "    </tr>\n",
       "    <tr>\n",
       "      <th>13747</th>\n",
       "      <td>Passenger jumps off delayed flight's emergency...</td>\n",
       "      <td>14</td>\n",
       "    </tr>\n",
       "    <tr>\n",
       "      <th>13748</th>\n",
       "      <td>The Guardian admits WhatsApp security flaw rep...</td>\n",
       "      <td>9</td>\n",
       "    </tr>\n",
       "    <tr>\n",
       "      <th>13749</th>\n",
       "      <td>Not true that Shoaib and I married to unite In...</td>\n",
       "      <td>13</td>\n",
       "    </tr>\n",
       "    <tr>\n",
       "      <th>13750</th>\n",
       "      <td>China Prez Xi only leader I celebrated my b'da...</td>\n",
       "      <td>6</td>\n",
       "    </tr>\n",
       "    <tr>\n",
       "      <th>13751</th>\n",
       "      <td>China wants Pakistan to relocate Hafiz Saeed: ...</td>\n",
       "      <td>6</td>\n",
       "    </tr>\n",
       "    <tr>\n",
       "      <th>13752</th>\n",
       "      <td>Deepika earned more than Ranveer, Priyanka, Ra...</td>\n",
       "      <td>9</td>\n",
       "    </tr>\n",
       "    <tr>\n",
       "      <th>13753</th>\n",
       "      <td>I created 50,000 jobs, what have you done: Mus...</td>\n",
       "      <td>5</td>\n",
       "    </tr>\n",
       "    <tr>\n",
       "      <th>13754</th>\n",
       "      <td>US to put nuclear bombers on 24-hour alert aft...</td>\n",
       "      <td>6</td>\n",
       "    </tr>\n",
       "    <tr>\n",
       "      <th>13755</th>\n",
       "      <td>Being Human licensee stock fell 15% after Salm...</td>\n",
       "      <td>9</td>\n",
       "    </tr>\n",
       "    <tr>\n",
       "      <th>13756</th>\n",
       "      <td>Death toll in Sri Lanka floods exceeds 200</td>\n",
       "      <td>4</td>\n",
       "    </tr>\n",
       "    <tr>\n",
       "      <th>13757</th>\n",
       "      <td>Ban 'Padmaavat' or the nation will burn: Karni...</td>\n",
       "      <td>13</td>\n",
       "    </tr>\n",
       "    <tr>\n",
       "      <th>13758</th>\n",
       "      <td>Hamilton wins 4th F1 title after finishing 9th...</td>\n",
       "      <td>0</td>\n",
       "    </tr>\n",
       "    <tr>\n",
       "      <th>13759</th>\n",
       "      <td>Court restrains Flipkart from using MarQ brand...</td>\n",
       "      <td>10</td>\n",
       "    </tr>\n",
       "    <tr>\n",
       "      <th>13760</th>\n",
       "      <td>LinkedIn hires former Google India exec as Cou...</td>\n",
       "      <td>4</td>\n",
       "    </tr>\n",
       "    <tr>\n",
       "      <th>13761</th>\n",
       "      <td>TCS briefly overtakes Reliance as India's most...</td>\n",
       "      <td>0</td>\n",
       "    </tr>\n",
       "    <tr>\n",
       "      <th>13762</th>\n",
       "      <td>We are building and will continue to build mis...</td>\n",
       "      <td>8</td>\n",
       "    </tr>\n",
       "    <tr>\n",
       "      <th>13763</th>\n",
       "      <td>Pak batsman hits 5 runs by running on 1st ball...</td>\n",
       "      <td>12</td>\n",
       "    </tr>\n",
       "    <tr>\n",
       "      <th>13764</th>\n",
       "      <td>India will be open defecation free by Oct 2019...</td>\n",
       "      <td>4</td>\n",
       "    </tr>\n",
       "    <tr>\n",
       "      <th>13765</th>\n",
       "      <td>Employee uses rival service to make 300 fake r...</td>\n",
       "      <td>0</td>\n",
       "    </tr>\n",
       "    <tr>\n",
       "      <th>13766</th>\n",
       "      <td>Easy to make solo films as there are no flying...</td>\n",
       "      <td>8</td>\n",
       "    </tr>\n",
       "    <tr>\n",
       "      <th>13767</th>\n",
       "      <td>Marvel found promising villains, tweets user o...</td>\n",
       "      <td>14</td>\n",
       "    </tr>\n",
       "    <tr>\n",
       "      <th>13768</th>\n",
       "      <td>Video: Groom shot dead by friend during celebr...</td>\n",
       "      <td>5</td>\n",
       "    </tr>\n",
       "    <tr>\n",
       "      <th>13769</th>\n",
       "      <td>Chanda Kochhar pulls out of FICCI event amid V...</td>\n",
       "      <td>2</td>\n",
       "    </tr>\n",
       "    <tr>\n",
       "      <th>13770</th>\n",
       "      <td>EU Parliament backs 'world's largest' free tra...</td>\n",
       "      <td>1</td>\n",
       "    </tr>\n",
       "    <tr>\n",
       "      <th>13771</th>\n",
       "      <td>DM in UP threatens to slit Panchayat officer's...</td>\n",
       "      <td>2</td>\n",
       "    </tr>\n",
       "    <tr>\n",
       "      <th>13772</th>\n",
       "      <td>Pritam is one of greatest strengths behind my ...</td>\n",
       "      <td>0</td>\n",
       "    </tr>\n",
       "    <tr>\n",
       "      <th>13773</th>\n",
       "      <td>Ready to sell home to release Big B starrer Sh...</td>\n",
       "      <td>2</td>\n",
       "    </tr>\n",
       "    <tr>\n",
       "      <th>13774</th>\n",
       "      <td>H'wood elitists look down upon Marvel films: Z...</td>\n",
       "      <td>9</td>\n",
       "    </tr>\n",
       "  </tbody>\n",
       "</table>\n",
       "<p>13775 rows × 2 columns</p>\n",
       "</div>"
      ],
      "text/plain": [
       "                                                    text  topic\n",
       "0      Black magic practitioner molests mentally chal...      3\n",
       "1      Janab seat belt to lagalo: Kaif trolled for dr...     11\n",
       "2                    Thousands attend SlutWalk in Israel     11\n",
       "3      US Vice President Mike Pence to meet PM Modi n...     11\n",
       "4      Guj woman sexually assaulted, thrown out of mo...      7\n",
       "5      Raj Kapoor's grandson's debut film Qaidi Band ...      6\n",
       "6         Digvijaya Singh shares abusive meme on PM Modi     11\n",
       "7      Paytm's 39-year-old Founder youngest Indian bi...      3\n",
       "8      J&J was alerted on Asbestos risk in talc in 70...      4\n",
       "9      Craig to be paid â¹450cr for his last James B...      9\n",
       "10     GlaxoSmithKline Pharma profit rises 69% in Dec...     11\n",
       "11     Abuse me but stop insulting the jawans: PM Mod...     11\n",
       "12     CBI files chargesheet against Himachal CM Virb...      4\n",
       "13     Mauritius President refuses to resign over fin...      1\n",
       "14     Snapdeal in talks with Flipkart, Paytm for sal...      0\n",
       "15     Aus offers â¹13 lakh each to Rohingyas to ret...     12\n",
       "16     Video shows Shiv Sena MP trying to beat Air In...      7\n",
       "17     Was offered Rajkummarâs role in 'Bareilly Ki...      9\n",
       "18     Startup that makes self-driving delivery robot...     14\n",
       "19     3 injured in Kamakhya-Dekargaon train blast in...     14\n",
       "20     Would choose Messi over Ronaldo, says Brazilia...     13\n",
       "21     Censor Board should not act as a villain for f...      9\n",
       "22      Pilot dies on board Etihad Airways plane mid-air     14\n",
       "23     Rahul urges Cong states to support Women's Res...      4\n",
       "24     Kangaroo tu na panga mat liya kar Bharat se: A...     12\n",
       "25     Indian MMA fighter signs up for UFC for the fi...      2\n",
       "26     Sweden truck attack suspect is Uzbekistan-born...      8\n",
       "27     Saudi Crown Prince ordered to 'silence' journa...      6\n",
       "28     Poster of Arjun's first film with uncle Anil '...      6\n",
       "29     Delhi man kills lover during sex, takes nude b...      5\n",
       "...                                                  ...    ...\n",
       "13745  Can't wait for them to make 'The Insensitive P...      2\n",
       "13746  Doing Satyarthi film as most Indians don't kno...     11\n",
       "13747  Passenger jumps off delayed flight's emergency...     14\n",
       "13748  The Guardian admits WhatsApp security flaw rep...      9\n",
       "13749  Not true that Shoaib and I married to unite In...     13\n",
       "13750  China Prez Xi only leader I celebrated my b'da...      6\n",
       "13751  China wants Pakistan to relocate Hafiz Saeed: ...      6\n",
       "13752  Deepika earned more than Ranveer, Priyanka, Ra...      9\n",
       "13753  I created 50,000 jobs, what have you done: Mus...      5\n",
       "13754  US to put nuclear bombers on 24-hour alert aft...      6\n",
       "13755  Being Human licensee stock fell 15% after Salm...      9\n",
       "13756         Death toll in Sri Lanka floods exceeds 200      4\n",
       "13757  Ban 'Padmaavat' or the nation will burn: Karni...     13\n",
       "13758  Hamilton wins 4th F1 title after finishing 9th...      0\n",
       "13759  Court restrains Flipkart from using MarQ brand...     10\n",
       "13760  LinkedIn hires former Google India exec as Cou...      4\n",
       "13761  TCS briefly overtakes Reliance as India's most...      0\n",
       "13762  We are building and will continue to build mis...      8\n",
       "13763  Pak batsman hits 5 runs by running on 1st ball...     12\n",
       "13764  India will be open defecation free by Oct 2019...      4\n",
       "13765  Employee uses rival service to make 300 fake r...      0\n",
       "13766  Easy to make solo films as there are no flying...      8\n",
       "13767  Marvel found promising villains, tweets user o...     14\n",
       "13768  Video: Groom shot dead by friend during celebr...      5\n",
       "13769  Chanda Kochhar pulls out of FICCI event amid V...      2\n",
       "13770  EU Parliament backs 'world's largest' free tra...      1\n",
       "13771  DM in UP threatens to slit Panchayat officer's...      2\n",
       "13772  Pritam is one of greatest strengths behind my ...      0\n",
       "13773  Ready to sell home to release Big B starrer Sh...      2\n",
       "13774  H'wood elitists look down upon Marvel films: Z...      9\n",
       "\n",
       "[13775 rows x 2 columns]"
      ]
     },
     "execution_count": 82,
     "metadata": {},
     "output_type": "execute_result"
    }
   ],
   "source": [
    "df"
   ]
  },
  {
   "cell_type": "code",
   "execution_count": null,
   "metadata": {},
   "outputs": [],
   "source": []
  }
 ],
 "metadata": {
  "kernelspec": {
   "display_name": "Python 3",
   "language": "python",
   "name": "python3"
  },
  "language_info": {
   "codemirror_mode": {
    "name": "ipython",
    "version": 3
   },
   "file_extension": ".py",
   "mimetype": "text/x-python",
   "name": "python",
   "nbconvert_exporter": "python",
   "pygments_lexer": "ipython3",
   "version": "3.7.1"
  }
 },
 "nbformat": 4,
 "nbformat_minor": 2
}
